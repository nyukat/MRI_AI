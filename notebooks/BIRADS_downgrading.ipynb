{
 "cells": [
  {
   "cell_type": "code",
   "execution_count": 1,
   "id": "3e0c9215",
   "metadata": {},
   "outputs": [],
   "source": [
    "import pandas as pd\n",
    "import numpy as np\n",
    "import matplotlib.pyplot as plt\n",
    "from scipy.special import expit\n",
    "from tqdm.notebook import tqdm\n",
    "from matplotlib import font_manager\n",
    "import pickle"
   ]
  },
  {
   "cell_type": "markdown",
   "id": "40c91379",
   "metadata": {},
   "source": [
    "Matplotlib style code:"
   ]
  },
  {
   "cell_type": "code",
   "execution_count": 3,
   "id": "2106e9b8",
   "metadata": {
    "jupyter": {
     "source_hidden": true
    }
   },
   "outputs": [],
   "source": [
    "plt.rcParams.update({'font.size': 20})\n",
    "plt.rcParams.update({\n",
    "    \"text.usetex\": False,\n",
    "    \"font.family\": \"serif\",\n",
    "})\n",
    "\n",
    "font_path = 'helvetica.ttf'  # Your font path goes here\n",
    "font_manager.fontManager.addfont(font_path)\n",
    "prop = font_manager.FontProperties(fname=font_path)\n",
    "\n",
    "plt.rcParams['font.family'] = 'sans-serif'\n",
    "plt.rcParams['font.sans-serif'] = prop.get_name()\n",
    "plt.rcParams['text.color'] = '#000000'\n",
    "plt.rcParams['xtick.color'] = '#000000'\n",
    "plt.rcParams['ytick.color'] = '#000000'\n",
    "plt.rcParams['axes.labelcolor'] = '#000000'\n",
    "plt.rcParams['pdf.fonttype'] = 42\n",
    "\n",
    "def leading_zeros_formatter(x, pos):\n",
    "    \"\"\"Format 1 as 1, 0 as 0, and all values whose absolute values is between\n",
    "    0 and 1 without the leading \"0.\" (e.g., 0.7 is formatted as .7 and -0.4 is\n",
    "    formatted as -.4).\"\"\"\n",
    "    val_str = '{:g}'.format(x)\n",
    "    if np.abs(x) > 0 and np.abs(x) < 1:\n",
    "        return val_str.replace(\"0\", \"\", 1)\n",
    "    else:\n",
    "        return val_str"
   ]
  },
  {
   "cell_type": "code",
   "execution_count": 4,
   "id": "16cde3f6",
   "metadata": {},
   "outputs": [],
   "source": [
    "df = pd.read_csv(\"predictions.csv\")"
   ]
  },
  {
   "cell_type": "code",
   "execution_count": 5,
   "id": "4aabfd93",
   "metadata": {},
   "outputs": [],
   "source": [
    "df = df.sort_values(['indices', 'Unnamed: 0'])[['Unnamed: 0', 'indices', 'labels', 'preds', 'birads', 'birads_granular']]"
   ]
  },
  {
   "cell_type": "code",
   "execution_count": 9,
   "id": "4fbeb77c",
   "metadata": {},
   "outputs": [
    {
     "data": {
      "text/html": [
       "<div>\n",
       "<style scoped>\n",
       "    .dataframe tbody tr th:only-of-type {\n",
       "        vertical-align: middle;\n",
       "    }\n",
       "\n",
       "    .dataframe tbody tr th {\n",
       "        vertical-align: top;\n",
       "    }\n",
       "\n",
       "    .dataframe thead th {\n",
       "        text-align: right;\n",
       "    }\n",
       "</style>\n",
       "<table border=\"1\" class=\"dataframe\">\n",
       "  <thead>\n",
       "    <tr style=\"text-align: right;\">\n",
       "      <th></th>\n",
       "      <th>preds_lm</th>\n",
       "      <th>preds_rm</th>\n",
       "      <th>label_lm</th>\n",
       "      <th>label_rm</th>\n",
       "      <th>birads</th>\n",
       "      <th>birads_granular</th>\n",
       "      <th>malignant</th>\n",
       "    </tr>\n",
       "  </thead>\n",
       "  <tbody>\n",
       "    <tr>\n",
       "      <th>0</th>\n",
       "      <td>0.201515</td>\n",
       "      <td>0.005247</td>\n",
       "      <td>0</td>\n",
       "      <td>0</td>\n",
       "      <td>4</td>\n",
       "      <td>4b</td>\n",
       "      <td>0</td>\n",
       "    </tr>\n",
       "    <tr>\n",
       "      <th>1</th>\n",
       "      <td>0.023558</td>\n",
       "      <td>0.879841</td>\n",
       "      <td>0</td>\n",
       "      <td>0</td>\n",
       "      <td>4</td>\n",
       "      <td>4a</td>\n",
       "      <td>0</td>\n",
       "    </tr>\n",
       "    <tr>\n",
       "      <th>2</th>\n",
       "      <td>0.030466</td>\n",
       "      <td>0.468097</td>\n",
       "      <td>0</td>\n",
       "      <td>0</td>\n",
       "      <td>0</td>\n",
       "      <td>NaN</td>\n",
       "      <td>0</td>\n",
       "    </tr>\n",
       "    <tr>\n",
       "      <th>3</th>\n",
       "      <td>0.802926</td>\n",
       "      <td>0.107109</td>\n",
       "      <td>1</td>\n",
       "      <td>0</td>\n",
       "      <td>6</td>\n",
       "      <td>NaN</td>\n",
       "      <td>1</td>\n",
       "    </tr>\n",
       "    <tr>\n",
       "      <th>4</th>\n",
       "      <td>0.904911</td>\n",
       "      <td>0.026669</td>\n",
       "      <td>1</td>\n",
       "      <td>0</td>\n",
       "      <td>0</td>\n",
       "      <td>NaN</td>\n",
       "      <td>1</td>\n",
       "    </tr>\n",
       "  </tbody>\n",
       "</table>\n",
       "</div>"
      ],
      "text/plain": [
       "   preds_lm  preds_rm  label_lm  label_rm birads birads_granular  malignant\n",
       "0  0.201515  0.005247         0         0      4              4b          0\n",
       "1  0.023558  0.879841         0         0      4              4a          0\n",
       "2  0.030466  0.468097         0         0      0             NaN          0\n",
       "3  0.802926  0.107109         1         0      6             NaN          1\n",
       "4  0.904911  0.026669         1         0      0             NaN          1"
      ]
     },
     "execution_count": 9,
     "metadata": {},
     "output_type": "execute_result"
    }
   ],
   "source": [
    "df_new = pd.DataFrame()\n",
    "df_new['indices'] = df.indices.values[::2]\n",
    "df_new['preds_lm'] = df.preds.values[::2]\n",
    "df_new['preds_rm'] = df.preds.values[1::2]\n",
    "df_new['label_lm'] = df.labels.values[::2]\n",
    "df_new['label_rm'] = df.labels.values[1::2]\n",
    "df_new['birads'] = df.birads.values[::2]\n",
    "df_new['birads_granular'] = df.birads_granular.values[::2]\n",
    "df_new['malignant'] = df_new[['label_lm', 'label_rm']].max(axis=1)\n",
    "\n",
    "df_new[['preds_lm', 'preds_rm', 'label_lm', 'label_rm', 'birads', 'birads_granular', 'malignant']].head()"
   ]
  },
  {
   "cell_type": "code",
   "execution_count": 10,
   "id": "aece364c",
   "metadata": {},
   "outputs": [
    {
     "data": {
      "application/vnd.jupyter.widget-view+json": {
       "model_id": "53a6c36e11f14e3393ad46a656849705",
       "version_major": 2,
       "version_minor": 0
      },
      "text/plain": [
       "  0%|          | 0/50 [00:00<?, ?it/s]"
      ]
     },
     "metadata": {},
     "output_type": "display_data"
    }
   ],
   "source": [
    "x = []\n",
    "y = []\n",
    "thresholds = []\n",
    "missed_cancers_set = set()\n",
    "for threshold in tqdm(np.arange(0.00, 0.50, 0.01)):\n",
    "    missed_cancers = 0\n",
    "    correctly_downgraded = 0\n",
    "    correctly_detected = 0\n",
    "    false_positive = 0\n",
    "    birads_df = df_new[df_new.birads=='4']\n",
    "\n",
    "    for _, row in birads_df.iterrows():\n",
    "        pred_malignant = ((row.preds_lm > threshold) | (row.preds_rm > threshold))\n",
    "\n",
    "        if pred_malignant == False and row.malignant == False:\n",
    "            correctly_downgraded += 1\n",
    "        if pred_malignant == False and row.malignant == True:\n",
    "            missed_cancers += 1\n",
    "            missed_cancers_set.add(row.indices)\n",
    "        if pred_malignant == True and row.malignant == True:\n",
    "            correctly_detected += 1\n",
    "        if pred_malignant == True and row.malignant == False:\n",
    "            false_positive += 1\n",
    "    x.append(missed_cancers)\n",
    "    y.append(correctly_downgraded)\n",
    "    thresholds.append(threshold)"
   ]
  },
  {
   "cell_type": "code",
   "execution_count": 11,
   "id": "da2d0360",
   "metadata": {},
   "outputs": [
    {
     "data": {
      "text/html": [
       "<div>\n",
       "<style scoped>\n",
       "    .dataframe tbody tr th:only-of-type {\n",
       "        vertical-align: middle;\n",
       "    }\n",
       "\n",
       "    .dataframe tbody tr th {\n",
       "        vertical-align: top;\n",
       "    }\n",
       "\n",
       "    .dataframe thead th {\n",
       "        text-align: right;\n",
       "    }\n",
       "</style>\n",
       "<table border=\"1\" class=\"dataframe\">\n",
       "  <thead>\n",
       "    <tr style=\"text-align: right;\">\n",
       "      <th></th>\n",
       "      <th>x</th>\n",
       "      <th>y</th>\n",
       "      <th>threshold</th>\n",
       "    </tr>\n",
       "  </thead>\n",
       "  <tbody>\n",
       "    <tr>\n",
       "      <th>0</th>\n",
       "      <td>0</td>\n",
       "      <td>0</td>\n",
       "      <td>0.00</td>\n",
       "    </tr>\n",
       "    <tr>\n",
       "      <th>1</th>\n",
       "      <td>3</td>\n",
       "      <td>43</td>\n",
       "      <td>0.01</td>\n",
       "    </tr>\n",
       "    <tr>\n",
       "      <th>2</th>\n",
       "      <td>5</td>\n",
       "      <td>99</td>\n",
       "      <td>0.02</td>\n",
       "    </tr>\n",
       "    <tr>\n",
       "      <th>3</th>\n",
       "      <td>15</td>\n",
       "      <td>134</td>\n",
       "      <td>0.03</td>\n",
       "    </tr>\n",
       "    <tr>\n",
       "      <th>4</th>\n",
       "      <td>23</td>\n",
       "      <td>163</td>\n",
       "      <td>0.04</td>\n",
       "    </tr>\n",
       "  </tbody>\n",
       "</table>\n",
       "</div>"
      ],
      "text/plain": [
       "    x    y  threshold\n",
       "0   0    0       0.00\n",
       "1   3   43       0.01\n",
       "2   5   99       0.02\n",
       "3  15  134       0.03\n",
       "4  23  163       0.04"
      ]
     },
     "execution_count": 11,
     "metadata": {},
     "output_type": "execute_result"
    }
   ],
   "source": [
    "tradeoff = pd.DataFrame()\n",
    "tradeoff['x'] = x\n",
    "tradeoff['y'] = y\n",
    "tradeoff['threshold'] = thresholds\n",
    "tradeoff.head()"
   ]
  },
  {
   "cell_type": "code",
   "execution_count": 12,
   "id": "8319a4b2",
   "metadata": {},
   "outputs": [
    {
     "data": {
      "text/plain": [
       "<matplotlib.colorbar.Colorbar at 0x7f4921d6e790>"
      ]
     },
     "execution_count": 12,
     "metadata": {},
     "output_type": "execute_result"
    },
    {
     "data": {
      "image/png": "[encoded data removed]",
      "text/plain": [
       "<Figure size 576x576 with 2 Axes>"
      ]
     },
     "metadata": {
      "needs_background": "light"
     },
     "output_type": "display_data"
    }
   ],
   "source": [
    "#Plot\n",
    "plt.figure(figsize=(8,8))\n",
    "plt.plot(x, y, lw=2, color='black', alpha=0.5)\n",
    "plt.scatter(x=x, y=y, s=150, c=np.arange(0.00, 0.50, 0.01), edgecolors='black', zorder=999, alpha=0.9)\n",
    "plt.xlabel(\"Incorrectly downgraded cases (missed cancer)\")\n",
    "plt.ylabel(\"Correctly downgraded cases\")\n",
    "plt.xlim(-2,200)  #B4\n",
    "plt.ylim(-4,475)  #B4\n",
    "#plt.xlim(-1,7)  #B3\n",
    "#plt.ylim(-4,350)  #B3\n",
    "\n",
    "ax = plt.gca()\n",
    "ax.spines['right'].set_visible(False)\n",
    "ax.spines['top'].set_visible(False)\n",
    "ax.xaxis.set_major_formatter(leading_zeros_formatter)\n",
    "ax.yaxis.set_major_formatter(leading_zeros_formatter)\n",
    "plt.colorbar()\n",
    "#plt.savefig('birads3_downgrading.pdf', bbox_inches='tight')"
   ]
  },
  {
   "cell_type": "code",
   "execution_count": 13,
   "id": "a3e45dff",
   "metadata": {},
   "outputs": [
    {
     "data": {
      "text/plain": [
       "<matplotlib.colorbar.Colorbar at 0x7f4921c8a310>"
      ]
     },
     "execution_count": 13,
     "metadata": {},
     "output_type": "execute_result"
    },
    {
     "data": {
      "image/png": "[encoded data removed]",
      "text/plain": [
       "<Figure size 360x180 with 2 Axes>"
      ]
     },
     "metadata": {
      "needs_background": "light"
     },
     "output_type": "display_data"
    }
   ],
   "source": [
    "# MINI BI-RADS 4 PLOT\n",
    "plt.figure(figsize=(5,2.5))\n",
    "plt.plot(x, y, lw=2)\n",
    "plt.scatter(x=x, y=y, s=150, c=np.arange(0.00, 0.50, 0.01), edgecolors='black', zorder=999, alpha=0.75)\n",
    "plt.xlim(-15,180)\n",
    "plt.ylim(-25,480)\n",
    "plt.grid()\n",
    "ax = plt.gca()\n",
    "#ax.set_xticks([0, 25, 50, 75])\n",
    "ax.spines['right'].set_visible(False)\n",
    "ax.spines['top'].set_visible(False)\n",
    "ax.xaxis.set_major_formatter(leading_zeros_formatter)\n",
    "ax.yaxis.set_major_formatter(leading_zeros_formatter)\n",
    "plt.colorbar()\n",
    "#plt.savefig('birads4_downgrading_mini.pdf', bbox_inches='tight')"
   ]
  }
 ],
 "metadata": {
  "kernelspec": {
   "display_name": "Python 3.8.13 ('py38')",
   "language": "python",
   "name": "python3"
  },
  "language_info": {
   "codemirror_mode": {
    "name": "ipython",
    "version": 3
   },
   "file_extension": ".py",
   "mimetype": "text/x-python",
   "name": "python",
   "nbconvert_exporter": "python",
   "pygments_lexer": "ipython3",
   "version": "3.8.13"
  },
  "vscode": {
   "interpreter": {
    "hash": "1743e6bb63a761e3aea326f4e2a0d58b91fc6a801e98320349ce7b406b23e4bb"
   }
  }
 },
 "nbformat": 4,
 "nbformat_minor": 5
}
