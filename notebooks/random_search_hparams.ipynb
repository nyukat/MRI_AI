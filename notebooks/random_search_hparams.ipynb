{
 "cells": [
  {
   "cell_type": "markdown",
   "id": "327b4969",
   "metadata": {},
   "source": [
    "# random search -- hyperparameter generation"
   ]
  },
  {
   "cell_type": "code",
   "execution_count": 1,
   "id": "09e602b1",
   "metadata": {},
   "outputs": [],
   "source": [
    "import random\n",
    "import numpy as np\n",
    "import matplotlib.pyplot as plt"
   ]
  },
  {
   "cell_type": "code",
   "execution_count": null,
   "id": "616e9062",
   "metadata": {},
   "outputs": [],
   "source": [
    "affine_scale = round(random.uniform(0.05, 0.25), 2)\n",
    "\n",
    "hparams = {\n",
    "    \"affine_scale\": affine_scale,\n",
    "    \"affine_rotation_deg\": int(abs(affine_scale*100 + random.randrange(-2, 7))),\n",
    "    \"affine_translation\": random.randrange(5, 20),\n",
    "\n",
    "    # regularizers\n",
    "    \"dropout\": random.choice([\"True\", \"False\"]),\n",
    "    \"label_smoothing\": random.choice([0.0, 0.1]),\n",
    "    \"stochastic_depth_rate\": random.choice([0.0, 0.1]),\n",
    "    \"use_se_layer\": random.choice([\"True\", \"False\"]),\n",
    "    \"weight_decay\": random.uniform(1e-6, 1e-5),\n",
    "\n",
    "    \"lr\": random.uniform(7e-7, 2e-5),\n",
    "    \"stop_warmup_at_epoch\": random.randint(2,6),\n",
    "\n",
    "    \"scheduler\": np.random.choice([\"step\", \"multistep\", \"cosineannealing\"], 1, p=[0.5, 0.25, 0.25])[0],\n",
    "\n",
    "    \"step_size\": random.randint(9,18), # step size for StepLR and also first milestone in MultiStepLR\n",
    "    \"cosannealing_epochs\": random.randint(50, 70),\n",
    "\n",
    "    \"seed\": random.randint(111111111, 999999999)\n",
    "}\n",
    "\n",
    "hparams"
   ]
  }
 ],
 "metadata": {
  "kernelspec": {
   "display_name": "Python 3.8.13 ('py38')",
   "language": "python",
   "name": "python3"
  },
  "language_info": {
   "codemirror_mode": {
    "name": "ipython",
    "version": 3
   },
   "file_extension": ".py",
   "mimetype": "text/x-python",
   "name": "python",
   "nbconvert_exporter": "python",
   "pygments_lexer": "ipython3",
   "version": "3.8.13"
  },
  "vscode": {
   "interpreter": {
    "hash": "1743e6bb63a761e3aea326f4e2a0d58b91fc6a801e98320349ce7b406b23e4bb"
   }
  }
 },
 "nbformat": 4,
 "nbformat_minor": 5
}
